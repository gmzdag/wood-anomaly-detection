{
  "nbformat": 4,
  "nbformat_minor": 0,
  "metadata": {
    "colab": {
      "provenance": [],
      "machine_shape": "hm",
      "gpuType": "A100"
    },
    "kernelspec": {
      "name": "python3",
      "display_name": "Python 3"
    },
    "language_info": {
      "name": "python"
    },
    "accelerator": "GPU"
  },
  "cells": [
    {
      "cell_type": "markdown",
      "source": [
        "#INP-Former"
      ],
      "metadata": {
        "id": "379HUgdv4U3Q"
      }
    },
    {
      "cell_type": "markdown",
      "source": [
        " Bu notebook'ta, ahşap yüzeylerdeki anomalileri tespit etmek için bir *INP-Former* modeli geliştirilecek ve eğitilecektir."
      ],
      "metadata": {
        "id": "xw7DC87H4U59"
      }
    },
    {
      "cell_type": "markdown",
      "source": [
        "##1. Ortam Kurulumu\n"
      ],
      "metadata": {
        "id": "OY_u9ZKzA3Ux"
      }
    },
    {
      "cell_type": "markdown",
      "source": [
        "###1.1 Google Drive Bağlantısı"
      ],
      "metadata": {
        "id": "5iwri4OyA3YP"
      }
    },
    {
      "cell_type": "code",
      "execution_count": 2,
      "metadata": {
        "colab": {
          "base_uri": "https://localhost:8080/"
        },
        "id": "iaXJPZlRg1KK",
        "outputId": "39238d42-7e27-46f3-ebcf-7378a183abd2"
      },
      "outputs": [
        {
          "output_type": "stream",
          "name": "stdout",
          "text": [
            "Mounted at /content/drive\n"
          ]
        }
      ],
      "source": [
        "from google.colab import drive\n",
        "drive.mount('/content/drive', force_remount=True)"
      ]
    },
    {
      "cell_type": "code",
      "source": [
        "%cd /content/drive/MyDrive"
      ],
      "metadata": {
        "colab": {
          "base_uri": "https://localhost:8080/"
        },
        "id": "LkWKQpRRAJ3i",
        "outputId": "86f52251-6c3e-4fec-9367-67eecbf6e681"
      },
      "execution_count": 1,
      "outputs": [
        {
          "output_type": "stream",
          "name": "stdout",
          "text": [
            "[Errno 2] No such file or directory: '/content/drive/MyDrive'\n",
            "/content\n"
          ]
        }
      ]
    },
    {
      "cell_type": "markdown",
      "source": [
        "###1.2 INP-Former Deposunun Klonlanması"
      ],
      "metadata": {
        "id": "YBxFCTGx4U8l"
      }
    },
    {
      "cell_type": "code",
      "source": [
        "!git clone https://github.com/gmzdag/wood-anomaly-detection.git"
      ],
      "metadata": {
        "id": "Tm1oi3PrAXyp"
      },
      "execution_count": null,
      "outputs": []
    },
    {
      "cell_type": "code",
      "source": [
        "%cd /content/drive/MyDrive/wood-anomaly-detection/models/INP-Former/src"
      ],
      "metadata": {
        "colab": {
          "base_uri": "https://localhost:8080/"
        },
        "id": "vlDC5QyOhxE8",
        "outputId": "a6ba6692-854f-49bd-e35b-df6c663327b7"
      },
      "execution_count": 5,
      "outputs": [
        {
          "output_type": "stream",
          "name": "stdout",
          "text": [
            "/content/drive/MyDrive/INP-Former\n"
          ]
        }
      ]
    },
    {
      "cell_type": "markdown",
      "source": [
        "###1.3 Gerekli Kütüphanelerin Kurulumu"
      ],
      "metadata": {
        "id": "2FCLpwSs4VCS"
      }
    },
    {
      "cell_type": "code",
      "source": [
        "!pip install -r requirements.txt"
      ],
      "metadata": {
        "colab": {
          "base_uri": "https://localhost:8080/"
        },
        "collapsed": true,
        "id": "g7AFUke4h1cs",
        "outputId": "457bb74a-bd9e-47a5-fcb2-14139fa4f4bb"
      },
      "execution_count": 11,
      "outputs": [
        {
          "output_type": "stream",
          "name": "stdout",
          "text": [
            "Looking in links: https://download.pytorch.org/whl/torch_stable.html\n",
            "Collecting matplotlib==3.2.1 (from -r requirements.txt (line 2))\n",
            "  Using cached matplotlib-3.2.1.tar.gz (40.3 MB)\n",
            "  Preparing metadata (setup.py) ... \u001b[?25l\u001b[?25hdone\n",
            "Collecting numpy==1.19.0 (from -r requirements.txt (line 3))\n",
            "  Using cached numpy-1.19.0.zip (7.3 MB)\n",
            "  Installing build dependencies ... \u001b[?25l\u001b[?25hdone\n",
            "  Getting requirements to build wheel ... \u001b[?25l\u001b[?25hdone\n",
            "  \u001b[1;31merror\u001b[0m: \u001b[1msubprocess-exited-with-error\u001b[0m\n",
            "  \n",
            "  \u001b[31m×\u001b[0m \u001b[32mPreparing metadata \u001b[0m\u001b[1;32m(\u001b[0m\u001b[32mpyproject.toml\u001b[0m\u001b[1;32m)\u001b[0m did not run successfully.\n",
            "  \u001b[31m│\u001b[0m exit code: \u001b[1;36m1\u001b[0m\n",
            "  \u001b[31m╰─>\u001b[0m See above for output.\n",
            "  \n",
            "  \u001b[1;35mnote\u001b[0m: This error originates from a subprocess, and is likely not a problem with pip.\n",
            "  Preparing metadata (pyproject.toml) ... \u001b[?25l\u001b[?25herror\n",
            "\u001b[1;31merror\u001b[0m: \u001b[1mmetadata-generation-failed\u001b[0m\n",
            "\n",
            "\u001b[31m×\u001b[0m Encountered error while generating package metadata.\n",
            "\u001b[31m╰─>\u001b[0m See above for output.\n",
            "\n",
            "\u001b[1;35mnote\u001b[0m: This is an issue with the package mentioned above, not pip.\n",
            "\u001b[1;36mhint\u001b[0m: See above for details.\n"
          ]
        }
      ]
    },
    {
      "cell_type": "code",
      "source": [
        "!pip install kornia"
      ],
      "metadata": {
        "colab": {
          "base_uri": "https://localhost:8080/"
        },
        "collapsed": true,
        "id": "EKBKpq8jjLVI",
        "outputId": "b2c8ed12-ff86-4c4a-9df8-c4a12407b00d"
      },
      "execution_count": 12,
      "outputs": [
        {
          "output_type": "stream",
          "name": "stdout",
          "text": [
            "Collecting kornia\n",
            "  Downloading kornia-0.8.1-py2.py3-none-any.whl.metadata (17 kB)\n",
            "Collecting kornia_rs>=0.1.9 (from kornia)\n",
            "  Downloading kornia_rs-0.1.9-cp311-cp311-manylinux_2_17_x86_64.manylinux2014_x86_64.whl.metadata (11 kB)\n",
            "Requirement already satisfied: packaging in /usr/local/lib/python3.11/dist-packages (from kornia) (24.2)\n",
            "Requirement already satisfied: torch>=1.9.1 in /usr/local/lib/python3.11/dist-packages (from kornia) (2.6.0+cu124)\n",
            "Requirement already satisfied: filelock in /usr/local/lib/python3.11/dist-packages (from torch>=1.9.1->kornia) (3.18.0)\n",
            "Requirement already satisfied: typing-extensions>=4.10.0 in /usr/local/lib/python3.11/dist-packages (from torch>=1.9.1->kornia) (4.13.2)\n",
            "Requirement already satisfied: networkx in /usr/local/lib/python3.11/dist-packages (from torch>=1.9.1->kornia) (3.4.2)\n",
            "Requirement already satisfied: jinja2 in /usr/local/lib/python3.11/dist-packages (from torch>=1.9.1->kornia) (3.1.6)\n",
            "Requirement already satisfied: fsspec in /usr/local/lib/python3.11/dist-packages (from torch>=1.9.1->kornia) (2025.3.2)\n",
            "Collecting nvidia-cuda-nvrtc-cu12==12.4.127 (from torch>=1.9.1->kornia)\n",
            "  Downloading nvidia_cuda_nvrtc_cu12-12.4.127-py3-none-manylinux2014_x86_64.whl.metadata (1.5 kB)\n",
            "Collecting nvidia-cuda-runtime-cu12==12.4.127 (from torch>=1.9.1->kornia)\n",
            "  Downloading nvidia_cuda_runtime_cu12-12.4.127-py3-none-manylinux2014_x86_64.whl.metadata (1.5 kB)\n",
            "Collecting nvidia-cuda-cupti-cu12==12.4.127 (from torch>=1.9.1->kornia)\n",
            "  Downloading nvidia_cuda_cupti_cu12-12.4.127-py3-none-manylinux2014_x86_64.whl.metadata (1.6 kB)\n",
            "Collecting nvidia-cudnn-cu12==9.1.0.70 (from torch>=1.9.1->kornia)\n",
            "  Downloading nvidia_cudnn_cu12-9.1.0.70-py3-none-manylinux2014_x86_64.whl.metadata (1.6 kB)\n",
            "Collecting nvidia-cublas-cu12==12.4.5.8 (from torch>=1.9.1->kornia)\n",
            "  Downloading nvidia_cublas_cu12-12.4.5.8-py3-none-manylinux2014_x86_64.whl.metadata (1.5 kB)\n",
            "Collecting nvidia-cufft-cu12==11.2.1.3 (from torch>=1.9.1->kornia)\n",
            "  Downloading nvidia_cufft_cu12-11.2.1.3-py3-none-manylinux2014_x86_64.whl.metadata (1.5 kB)\n",
            "Collecting nvidia-curand-cu12==10.3.5.147 (from torch>=1.9.1->kornia)\n",
            "  Downloading nvidia_curand_cu12-10.3.5.147-py3-none-manylinux2014_x86_64.whl.metadata (1.5 kB)\n",
            "Collecting nvidia-cusolver-cu12==11.6.1.9 (from torch>=1.9.1->kornia)\n",
            "  Downloading nvidia_cusolver_cu12-11.6.1.9-py3-none-manylinux2014_x86_64.whl.metadata (1.6 kB)\n",
            "Collecting nvidia-cusparse-cu12==12.3.1.170 (from torch>=1.9.1->kornia)\n",
            "  Downloading nvidia_cusparse_cu12-12.3.1.170-py3-none-manylinux2014_x86_64.whl.metadata (1.6 kB)\n",
            "Requirement already satisfied: nvidia-cusparselt-cu12==0.6.2 in /usr/local/lib/python3.11/dist-packages (from torch>=1.9.1->kornia) (0.6.2)\n",
            "Requirement already satisfied: nvidia-nccl-cu12==2.21.5 in /usr/local/lib/python3.11/dist-packages (from torch>=1.9.1->kornia) (2.21.5)\n",
            "Requirement already satisfied: nvidia-nvtx-cu12==12.4.127 in /usr/local/lib/python3.11/dist-packages (from torch>=1.9.1->kornia) (12.4.127)\n",
            "Collecting nvidia-nvjitlink-cu12==12.4.127 (from torch>=1.9.1->kornia)\n",
            "  Downloading nvidia_nvjitlink_cu12-12.4.127-py3-none-manylinux2014_x86_64.whl.metadata (1.5 kB)\n",
            "Requirement already satisfied: triton==3.2.0 in /usr/local/lib/python3.11/dist-packages (from torch>=1.9.1->kornia) (3.2.0)\n",
            "Requirement already satisfied: sympy==1.13.1 in /usr/local/lib/python3.11/dist-packages (from torch>=1.9.1->kornia) (1.13.1)\n",
            "Requirement already satisfied: mpmath<1.4,>=1.1.0 in /usr/local/lib/python3.11/dist-packages (from sympy==1.13.1->torch>=1.9.1->kornia) (1.3.0)\n",
            "Requirement already satisfied: MarkupSafe>=2.0 in /usr/local/lib/python3.11/dist-packages (from jinja2->torch>=1.9.1->kornia) (3.0.2)\n",
            "Downloading kornia-0.8.1-py2.py3-none-any.whl (1.1 MB)\n",
            "\u001b[2K   \u001b[90m━━━━━━━━━━━━━━━━━━━━━━━━━━━━━━━━━━━━━━━━\u001b[0m \u001b[32m1.1/1.1 MB\u001b[0m \u001b[31m60.2 MB/s\u001b[0m eta \u001b[36m0:00:00\u001b[0m\n",
            "\u001b[?25hDownloading kornia_rs-0.1.9-cp311-cp311-manylinux_2_17_x86_64.manylinux2014_x86_64.whl (2.8 MB)\n",
            "\u001b[2K   \u001b[90m━━━━━━━━━━━━━━━━━━━━━━━━━━━━━━━━━━━━━━━━\u001b[0m \u001b[32m2.8/2.8 MB\u001b[0m \u001b[31m115.3 MB/s\u001b[0m eta \u001b[36m0:00:00\u001b[0m\n",
            "\u001b[?25hDownloading nvidia_cublas_cu12-12.4.5.8-py3-none-manylinux2014_x86_64.whl (363.4 MB)\n",
            "\u001b[2K   \u001b[90m━━━━━━━━━━━━━━━━━━━━━━━━━━━━━━━━━━━━━━━━\u001b[0m \u001b[32m363.4/363.4 MB\u001b[0m \u001b[31m3.5 MB/s\u001b[0m eta \u001b[36m0:00:00\u001b[0m\n",
            "\u001b[?25hDownloading nvidia_cuda_cupti_cu12-12.4.127-py3-none-manylinux2014_x86_64.whl (13.8 MB)\n",
            "\u001b[2K   \u001b[90m━━━━━━━━━━━━━━━━━━━━━━━━━━━━━━━━━━━━━━━━\u001b[0m \u001b[32m13.8/13.8 MB\u001b[0m \u001b[31m131.2 MB/s\u001b[0m eta \u001b[36m0:00:00\u001b[0m\n",
            "\u001b[?25hDownloading nvidia_cuda_nvrtc_cu12-12.4.127-py3-none-manylinux2014_x86_64.whl (24.6 MB)\n",
            "\u001b[2K   \u001b[90m━━━━━━━━━━━━━━━━━━━━━━━━━━━━━━━━━━━━━━━━\u001b[0m \u001b[32m24.6/24.6 MB\u001b[0m \u001b[31m101.2 MB/s\u001b[0m eta \u001b[36m0:00:00\u001b[0m\n",
            "\u001b[?25hDownloading nvidia_cuda_runtime_cu12-12.4.127-py3-none-manylinux2014_x86_64.whl (883 kB)\n",
            "\u001b[2K   \u001b[90m━━━━━━━━━━━━━━━━━━━━━━━━━━━━━━━━━━━━━━━━\u001b[0m \u001b[32m883.7/883.7 kB\u001b[0m \u001b[31m61.5 MB/s\u001b[0m eta \u001b[36m0:00:00\u001b[0m\n",
            "\u001b[?25hDownloading nvidia_cudnn_cu12-9.1.0.70-py3-none-manylinux2014_x86_64.whl (664.8 MB)\n",
            "\u001b[2K   \u001b[90m━━━━━━━━━━━━━━━━━━━━━━━━━━━━━━━━━━━━━━━━\u001b[0m \u001b[32m664.8/664.8 MB\u001b[0m \u001b[31m1.7 MB/s\u001b[0m eta \u001b[36m0:00:00\u001b[0m\n",
            "\u001b[?25hDownloading nvidia_cufft_cu12-11.2.1.3-py3-none-manylinux2014_x86_64.whl (211.5 MB)\n",
            "\u001b[2K   \u001b[90m━━━━━━━━━━━━━━━━━━━━━━━━━━━━━━━━━━━━━━━━\u001b[0m \u001b[32m211.5/211.5 MB\u001b[0m \u001b[31m12.1 MB/s\u001b[0m eta \u001b[36m0:00:00\u001b[0m\n",
            "\u001b[?25hDownloading nvidia_curand_cu12-10.3.5.147-py3-none-manylinux2014_x86_64.whl (56.3 MB)\n",
            "\u001b[2K   \u001b[90m━━━━━━━━━━━━━━━━━━━━━━━━━━━━━━━━━━━━━━━━\u001b[0m \u001b[32m56.3/56.3 MB\u001b[0m \u001b[31m45.2 MB/s\u001b[0m eta \u001b[36m0:00:00\u001b[0m\n",
            "\u001b[?25hDownloading nvidia_cusolver_cu12-11.6.1.9-py3-none-manylinux2014_x86_64.whl (127.9 MB)\n",
            "\u001b[2K   \u001b[90m━━━━━━━━━━━━━━━━━━━━━━━━━━━━━━━━━━━━━━━━\u001b[0m \u001b[32m127.9/127.9 MB\u001b[0m \u001b[31m19.9 MB/s\u001b[0m eta \u001b[36m0:00:00\u001b[0m\n",
            "\u001b[?25hDownloading nvidia_cusparse_cu12-12.3.1.170-py3-none-manylinux2014_x86_64.whl (207.5 MB)\n",
            "\u001b[2K   \u001b[90m━━━━━━━━━━━━━━━━━━━━━━━━━━━━━━━━━━━━━━━━\u001b[0m \u001b[32m207.5/207.5 MB\u001b[0m \u001b[31m4.3 MB/s\u001b[0m eta \u001b[36m0:00:00\u001b[0m\n",
            "\u001b[?25hDownloading nvidia_nvjitlink_cu12-12.4.127-py3-none-manylinux2014_x86_64.whl (21.1 MB)\n",
            "\u001b[2K   \u001b[90m━━━━━━━━━━━━━━━━━━━━━━━━━━━━━━━━━━━━━━━━\u001b[0m \u001b[32m21.1/21.1 MB\u001b[0m \u001b[31m112.6 MB/s\u001b[0m eta \u001b[36m0:00:00\u001b[0m\n",
            "\u001b[?25hInstalling collected packages: nvidia-nvjitlink-cu12, nvidia-curand-cu12, nvidia-cufft-cu12, nvidia-cuda-runtime-cu12, nvidia-cuda-nvrtc-cu12, nvidia-cuda-cupti-cu12, nvidia-cublas-cu12, kornia_rs, nvidia-cusparse-cu12, nvidia-cudnn-cu12, nvidia-cusolver-cu12, kornia\n",
            "  Attempting uninstall: nvidia-nvjitlink-cu12\n",
            "    Found existing installation: nvidia-nvjitlink-cu12 12.5.82\n",
            "    Uninstalling nvidia-nvjitlink-cu12-12.5.82:\n",
            "      Successfully uninstalled nvidia-nvjitlink-cu12-12.5.82\n",
            "  Attempting uninstall: nvidia-curand-cu12\n",
            "    Found existing installation: nvidia-curand-cu12 10.3.6.82\n",
            "    Uninstalling nvidia-curand-cu12-10.3.6.82:\n",
            "      Successfully uninstalled nvidia-curand-cu12-10.3.6.82\n",
            "  Attempting uninstall: nvidia-cufft-cu12\n",
            "    Found existing installation: nvidia-cufft-cu12 11.2.3.61\n",
            "    Uninstalling nvidia-cufft-cu12-11.2.3.61:\n",
            "      Successfully uninstalled nvidia-cufft-cu12-11.2.3.61\n",
            "  Attempting uninstall: nvidia-cuda-runtime-cu12\n",
            "    Found existing installation: nvidia-cuda-runtime-cu12 12.5.82\n",
            "    Uninstalling nvidia-cuda-runtime-cu12-12.5.82:\n",
            "      Successfully uninstalled nvidia-cuda-runtime-cu12-12.5.82\n",
            "  Attempting uninstall: nvidia-cuda-nvrtc-cu12\n",
            "    Found existing installation: nvidia-cuda-nvrtc-cu12 12.5.82\n",
            "    Uninstalling nvidia-cuda-nvrtc-cu12-12.5.82:\n",
            "      Successfully uninstalled nvidia-cuda-nvrtc-cu12-12.5.82\n",
            "  Attempting uninstall: nvidia-cuda-cupti-cu12\n",
            "    Found existing installation: nvidia-cuda-cupti-cu12 12.5.82\n",
            "    Uninstalling nvidia-cuda-cupti-cu12-12.5.82:\n",
            "      Successfully uninstalled nvidia-cuda-cupti-cu12-12.5.82\n",
            "  Attempting uninstall: nvidia-cublas-cu12\n",
            "    Found existing installation: nvidia-cublas-cu12 12.5.3.2\n",
            "    Uninstalling nvidia-cublas-cu12-12.5.3.2:\n",
            "      Successfully uninstalled nvidia-cublas-cu12-12.5.3.2\n",
            "  Attempting uninstall: nvidia-cusparse-cu12\n",
            "    Found existing installation: nvidia-cusparse-cu12 12.5.1.3\n",
            "    Uninstalling nvidia-cusparse-cu12-12.5.1.3:\n",
            "      Successfully uninstalled nvidia-cusparse-cu12-12.5.1.3\n",
            "  Attempting uninstall: nvidia-cudnn-cu12\n",
            "    Found existing installation: nvidia-cudnn-cu12 9.3.0.75\n",
            "    Uninstalling nvidia-cudnn-cu12-9.3.0.75:\n",
            "      Successfully uninstalled nvidia-cudnn-cu12-9.3.0.75\n",
            "  Attempting uninstall: nvidia-cusolver-cu12\n",
            "    Found existing installation: nvidia-cusolver-cu12 11.6.3.83\n",
            "    Uninstalling nvidia-cusolver-cu12-11.6.3.83:\n",
            "      Successfully uninstalled nvidia-cusolver-cu12-11.6.3.83\n",
            "Successfully installed kornia-0.8.1 kornia_rs-0.1.9 nvidia-cublas-cu12-12.4.5.8 nvidia-cuda-cupti-cu12-12.4.127 nvidia-cuda-nvrtc-cu12-12.4.127 nvidia-cuda-runtime-cu12-12.4.127 nvidia-cudnn-cu12-9.1.0.70 nvidia-cufft-cu12-11.2.1.3 nvidia-curand-cu12-10.3.5.147 nvidia-cusolver-cu12-11.6.1.9 nvidia-cusparse-cu12-12.3.1.170 nvidia-nvjitlink-cu12-12.4.127\n"
          ]
        }
      ]
    },
    {
      "cell_type": "code",
      "source": [
        "!pip install numpy==1.26.4\n"
      ],
      "metadata": {
        "colab": {
          "base_uri": "https://localhost:8080/"
        },
        "collapsed": true,
        "id": "SqY7Fudvj9KS",
        "outputId": "5733cd0f-26a9-4c99-f532-883e43b9f2dc"
      },
      "execution_count": 21,
      "outputs": [
        {
          "output_type": "stream",
          "name": "stdout",
          "text": [
            "Collecting numpy==1.26.4\n",
            "  Downloading numpy-1.26.4-cp311-cp311-manylinux_2_17_x86_64.manylinux2014_x86_64.whl.metadata (61 kB)\n",
            "\u001b[?25l     \u001b[90m━━━━━━━━━━━━━━━━━━━━━━━━━━━━━━━━━━━━━━━━\u001b[0m \u001b[32m0.0/61.0 kB\u001b[0m \u001b[31m?\u001b[0m eta \u001b[36m-:--:--\u001b[0m\r\u001b[2K     \u001b[90m━━━━━━━━━━━━━━━━━━━━━━━━━━━━━━━━━━━━━━━━\u001b[0m \u001b[32m61.0/61.0 kB\u001b[0m \u001b[31m4.6 MB/s\u001b[0m eta \u001b[36m0:00:00\u001b[0m\n",
            "\u001b[?25hDownloading numpy-1.26.4-cp311-cp311-manylinux_2_17_x86_64.manylinux2014_x86_64.whl (18.3 MB)\n",
            "\u001b[2K   \u001b[90m━━━━━━━━━━━━━━━━━━━━━━━━━━━━━━━━━━━━━━━━\u001b[0m \u001b[32m18.3/18.3 MB\u001b[0m \u001b[31m117.2 MB/s\u001b[0m eta \u001b[36m0:00:00\u001b[0m\n",
            "\u001b[?25hInstalling collected packages: numpy\n",
            "  Attempting uninstall: numpy\n",
            "    Found existing installation: numpy 2.0.2\n",
            "    Uninstalling numpy-2.0.2:\n",
            "      Successfully uninstalled numpy-2.0.2\n",
            "\u001b[31mERROR: pip's dependency resolver does not currently take into account all the packages that are installed. This behaviour is the source of the following dependency conflicts.\n",
            "thinc 8.3.6 requires numpy<3.0.0,>=2.0.0, but you have numpy 1.26.4 which is incompatible.\u001b[0m\u001b[31m\n",
            "\u001b[0mSuccessfully installed numpy-1.26.4\n"
          ]
        }
      ]
    },
    {
      "cell_type": "code",
      "source": [
        "!pip install adeval"
      ],
      "metadata": {
        "colab": {
          "base_uri": "https://localhost:8080/"
        },
        "collapsed": true,
        "id": "WJbd_NiOjlNB",
        "outputId": "f1535a80-2a59-4196-88c0-05cd1cbe5c61"
      },
      "execution_count": 14,
      "outputs": [
        {
          "output_type": "stream",
          "name": "stdout",
          "text": [
            "Collecting adeval\n",
            "  Downloading ADEval-1.1.0-py3-none-any.whl.metadata (8.7 kB)\n",
            "Requirement already satisfied: torch>=1.8.0 in /usr/local/lib/python3.11/dist-packages (from adeval) (2.6.0+cu124)\n",
            "Requirement already satisfied: numpy>=1.19 in /usr/local/lib/python3.11/dist-packages (from adeval) (2.0.2)\n",
            "Requirement already satisfied: opencv-python>=3.4 in /usr/local/lib/python3.11/dist-packages (from adeval) (4.11.0.86)\n",
            "Requirement already satisfied: Pillow>=4.0 in /usr/local/lib/python3.11/dist-packages (from adeval) (11.2.1)\n",
            "Requirement already satisfied: filelock in /usr/local/lib/python3.11/dist-packages (from torch>=1.8.0->adeval) (3.18.0)\n",
            "Requirement already satisfied: typing-extensions>=4.10.0 in /usr/local/lib/python3.11/dist-packages (from torch>=1.8.0->adeval) (4.13.2)\n",
            "Requirement already satisfied: networkx in /usr/local/lib/python3.11/dist-packages (from torch>=1.8.0->adeval) (3.4.2)\n",
            "Requirement already satisfied: jinja2 in /usr/local/lib/python3.11/dist-packages (from torch>=1.8.0->adeval) (3.1.6)\n",
            "Requirement already satisfied: fsspec in /usr/local/lib/python3.11/dist-packages (from torch>=1.8.0->adeval) (2025.3.2)\n",
            "Requirement already satisfied: nvidia-cuda-nvrtc-cu12==12.4.127 in /usr/local/lib/python3.11/dist-packages (from torch>=1.8.0->adeval) (12.4.127)\n",
            "Requirement already satisfied: nvidia-cuda-runtime-cu12==12.4.127 in /usr/local/lib/python3.11/dist-packages (from torch>=1.8.0->adeval) (12.4.127)\n",
            "Requirement already satisfied: nvidia-cuda-cupti-cu12==12.4.127 in /usr/local/lib/python3.11/dist-packages (from torch>=1.8.0->adeval) (12.4.127)\n",
            "Requirement already satisfied: nvidia-cudnn-cu12==9.1.0.70 in /usr/local/lib/python3.11/dist-packages (from torch>=1.8.0->adeval) (9.1.0.70)\n",
            "Requirement already satisfied: nvidia-cublas-cu12==12.4.5.8 in /usr/local/lib/python3.11/dist-packages (from torch>=1.8.0->adeval) (12.4.5.8)\n",
            "Requirement already satisfied: nvidia-cufft-cu12==11.2.1.3 in /usr/local/lib/python3.11/dist-packages (from torch>=1.8.0->adeval) (11.2.1.3)\n",
            "Requirement already satisfied: nvidia-curand-cu12==10.3.5.147 in /usr/local/lib/python3.11/dist-packages (from torch>=1.8.0->adeval) (10.3.5.147)\n",
            "Requirement already satisfied: nvidia-cusolver-cu12==11.6.1.9 in /usr/local/lib/python3.11/dist-packages (from torch>=1.8.0->adeval) (11.6.1.9)\n",
            "Requirement already satisfied: nvidia-cusparse-cu12==12.3.1.170 in /usr/local/lib/python3.11/dist-packages (from torch>=1.8.0->adeval) (12.3.1.170)\n",
            "Requirement already satisfied: nvidia-cusparselt-cu12==0.6.2 in /usr/local/lib/python3.11/dist-packages (from torch>=1.8.0->adeval) (0.6.2)\n",
            "Requirement already satisfied: nvidia-nccl-cu12==2.21.5 in /usr/local/lib/python3.11/dist-packages (from torch>=1.8.0->adeval) (2.21.5)\n",
            "Requirement already satisfied: nvidia-nvtx-cu12==12.4.127 in /usr/local/lib/python3.11/dist-packages (from torch>=1.8.0->adeval) (12.4.127)\n",
            "Requirement already satisfied: nvidia-nvjitlink-cu12==12.4.127 in /usr/local/lib/python3.11/dist-packages (from torch>=1.8.0->adeval) (12.4.127)\n",
            "Requirement already satisfied: triton==3.2.0 in /usr/local/lib/python3.11/dist-packages (from torch>=1.8.0->adeval) (3.2.0)\n",
            "Requirement already satisfied: sympy==1.13.1 in /usr/local/lib/python3.11/dist-packages (from torch>=1.8.0->adeval) (1.13.1)\n",
            "Requirement already satisfied: mpmath<1.4,>=1.1.0 in /usr/local/lib/python3.11/dist-packages (from sympy==1.13.1->torch>=1.8.0->adeval) (1.3.0)\n",
            "Requirement already satisfied: MarkupSafe>=2.0 in /usr/local/lib/python3.11/dist-packages (from jinja2->torch>=1.8.0->adeval) (3.0.2)\n",
            "Downloading ADEval-1.1.0-py3-none-any.whl (26 kB)\n",
            "Installing collected packages: adeval\n",
            "Successfully installed adeval-1.1.0\n"
          ]
        }
      ]
    },
    {
      "cell_type": "markdown",
      "source": [
        "## 2. Model Eğitimi"
      ],
      "metadata": {
        "id": "aA5SlH4GBLNx"
      }
    },
    {
      "cell_type": "markdown",
      "source": [
        "####2.1 20 Epoch İle Model Eğitimi"
      ],
      "metadata": {
        "id": "yyTFjFwyDzie"
      }
    },
    {
      "cell_type": "markdown",
      "source": [
        "**Parametre Açıklamaları:**\n",
        "\n",
        "- `!python INP_Former_Multi_Class.py`: Çalıştırılacak Python betiği. INP-Former modelinin çok sınıflı versiyonu için eğitim veya test işlemlerini yürütür.\n",
        "- `--dataset` : Kullanılacak veri setini belirtir.\n",
        "- `--data_path `: Veri setinin bulunduğu dizin yolu. Betik bu yoldaki veri setini işleyecektir.\n",
        "- `--save_dir` : Model ağırlıklarının, logların kaydedileceği dizin.\n",
        "- `--total_epochs `: Modelin kaç epoch  boyunca eğitileceğini belirtir. Burada 20 epoch olarak ayarlanmıştır.\n",
        "- `--phase `: Betiğin hangi modda çalışacağını belirtir. \"train\" değeri, modelin eğitim modunda çalışacağını gösterir."
      ],
      "metadata": {
        "id": "tIESpgM3CH2y"
      }
    },
    {
      "cell_type": "code",
      "source": [
        "!python INP_Former_Multi_Class.py\\\n",
        "  --dataset MVTec-AD\\\n",
        "  --data_path /content/drive/MyDrive/processed_dataset \\\n",
        "  --save_dir ./saved_results/ \\\n",
        "  --total_epochs 20 \\\n",
        "  --phase train"
      ],
      "metadata": {
        "colab": {
          "base_uri": "https://localhost:8080/"
        },
        "id": "6pc032qqh9ae",
        "outputId": "0158bd60-0015-4e42-a305-d2b430a6d486"
      },
      "execution_count": 26,
      "outputs": [
        {
          "output_type": "stream",
          "name": "stdout",
          "text": [
            "/usr/local/lib/python3.11/dist-packages/timm/models/layers/__init__.py:48: FutureWarning: Importing from timm.models.layers is deprecated, please import via timm.layers\n",
            "  warnings.warn(f\"Importing from {__name__} is deprecated, please import via timm.layers\", FutureWarning)\n",
            "train image number:70\n",
            "INFO:INP-Former-Multi-Class_dataset=MVTec-AD_Encoder=dinov2reg_vit_base_14_Resize=448_Crop=392_INP_num=6:train image number:70\n",
            "100%|█████████████████████████████████████████████| 4/4 [00:03<00:00,  1.11it/s]\n",
            "epoch [1/20], loss:1.1067\n",
            "INFO:INP-Former-Multi-Class_dataset=MVTec-AD_Encoder=dinov2reg_vit_base_14_Resize=448_Crop=392_INP_num=6:epoch [1/20], loss:1.1067\n",
            "100%|█████████████████████████████████████████████| 4/4 [00:02<00:00,  1.57it/s]\n",
            "epoch [2/20], loss:0.6679\n",
            "INFO:INP-Former-Multi-Class_dataset=MVTec-AD_Encoder=dinov2reg_vit_base_14_Resize=448_Crop=392_INP_num=6:epoch [2/20], loss:0.6679\n",
            "100%|█████████████████████████████████████████████| 4/4 [00:02<00:00,  1.59it/s]\n",
            "epoch [3/20], loss:0.5562\n",
            "INFO:INP-Former-Multi-Class_dataset=MVTec-AD_Encoder=dinov2reg_vit_base_14_Resize=448_Crop=392_INP_num=6:epoch [3/20], loss:0.5562\n",
            "100%|█████████████████████████████████████████████| 4/4 [00:02<00:00,  1.62it/s]\n",
            "epoch [4/20], loss:0.4997\n",
            "INFO:INP-Former-Multi-Class_dataset=MVTec-AD_Encoder=dinov2reg_vit_base_14_Resize=448_Crop=392_INP_num=6:epoch [4/20], loss:0.4997\n",
            "100%|█████████████████████████████████████████████| 4/4 [00:02<00:00,  1.63it/s]\n",
            "epoch [5/20], loss:0.4503\n",
            "INFO:INP-Former-Multi-Class_dataset=MVTec-AD_Encoder=dinov2reg_vit_base_14_Resize=448_Crop=392_INP_num=6:epoch [5/20], loss:0.4503\n",
            "100%|█████████████████████████████████████████████| 4/4 [00:02<00:00,  1.60it/s]\n",
            "epoch [6/20], loss:0.4022\n",
            "INFO:INP-Former-Multi-Class_dataset=MVTec-AD_Encoder=dinov2reg_vit_base_14_Resize=448_Crop=392_INP_num=6:epoch [6/20], loss:0.4022\n",
            "100%|█████████████████████████████████████████████| 4/4 [00:02<00:00,  1.60it/s]\n",
            "epoch [7/20], loss:0.3750\n",
            "INFO:INP-Former-Multi-Class_dataset=MVTec-AD_Encoder=dinov2reg_vit_base_14_Resize=448_Crop=392_INP_num=6:epoch [7/20], loss:0.3750\n",
            "100%|█████████████████████████████████████████████| 4/4 [00:02<00:00,  1.60it/s]\n",
            "epoch [8/20], loss:0.3596\n",
            "INFO:INP-Former-Multi-Class_dataset=MVTec-AD_Encoder=dinov2reg_vit_base_14_Resize=448_Crop=392_INP_num=6:epoch [8/20], loss:0.3596\n",
            "100%|█████████████████████████████████████████████| 4/4 [00:02<00:00,  1.61it/s]\n",
            "epoch [9/20], loss:0.3547\n",
            "INFO:INP-Former-Multi-Class_dataset=MVTec-AD_Encoder=dinov2reg_vit_base_14_Resize=448_Crop=392_INP_num=6:epoch [9/20], loss:0.3547\n",
            "100%|█████████████████████████████████████████████| 4/4 [00:02<00:00,  1.62it/s]\n",
            "epoch [10/20], loss:0.3473\n",
            "INFO:INP-Former-Multi-Class_dataset=MVTec-AD_Encoder=dinov2reg_vit_base_14_Resize=448_Crop=392_INP_num=6:epoch [10/20], loss:0.3473\n",
            "100%|█████████████████████████████████████████████| 4/4 [00:02<00:00,  1.61it/s]\n",
            "epoch [11/20], loss:0.3382\n",
            "INFO:INP-Former-Multi-Class_dataset=MVTec-AD_Encoder=dinov2reg_vit_base_14_Resize=448_Crop=392_INP_num=6:epoch [11/20], loss:0.3382\n",
            "100%|█████████████████████████████████████████████| 4/4 [00:02<00:00,  1.62it/s]\n",
            "epoch [12/20], loss:0.3370\n",
            "INFO:INP-Former-Multi-Class_dataset=MVTec-AD_Encoder=dinov2reg_vit_base_14_Resize=448_Crop=392_INP_num=6:epoch [12/20], loss:0.3370\n",
            "100%|█████████████████████████████████████████████| 4/4 [00:02<00:00,  1.61it/s]\n",
            "epoch [13/20], loss:0.3270\n",
            "INFO:INP-Former-Multi-Class_dataset=MVTec-AD_Encoder=dinov2reg_vit_base_14_Resize=448_Crop=392_INP_num=6:epoch [13/20], loss:0.3270\n",
            "100%|█████████████████████████████████████████████| 4/4 [00:02<00:00,  1.60it/s]\n",
            "epoch [14/20], loss:0.3242\n",
            "INFO:INP-Former-Multi-Class_dataset=MVTec-AD_Encoder=dinov2reg_vit_base_14_Resize=448_Crop=392_INP_num=6:epoch [14/20], loss:0.3242\n",
            "100%|█████████████████████████████████████████████| 4/4 [00:02<00:00,  1.61it/s]\n",
            "epoch [15/20], loss:0.3290\n",
            "INFO:INP-Former-Multi-Class_dataset=MVTec-AD_Encoder=dinov2reg_vit_base_14_Resize=448_Crop=392_INP_num=6:epoch [15/20], loss:0.3290\n",
            "100%|█████████████████████████████████████████████| 4/4 [00:02<00:00,  1.59it/s]\n",
            "epoch [16/20], loss:0.3196\n",
            "INFO:INP-Former-Multi-Class_dataset=MVTec-AD_Encoder=dinov2reg_vit_base_14_Resize=448_Crop=392_INP_num=6:epoch [16/20], loss:0.3196\n",
            "100%|█████████████████████████████████████████████| 4/4 [00:02<00:00,  1.62it/s]\n",
            "epoch [17/20], loss:0.3218\n",
            "INFO:INP-Former-Multi-Class_dataset=MVTec-AD_Encoder=dinov2reg_vit_base_14_Resize=448_Crop=392_INP_num=6:epoch [17/20], loss:0.3218\n",
            "100%|█████████████████████████████████████████████| 4/4 [00:02<00:00,  1.61it/s]\n",
            "epoch [18/20], loss:0.3164\n",
            "INFO:INP-Former-Multi-Class_dataset=MVTec-AD_Encoder=dinov2reg_vit_base_14_Resize=448_Crop=392_INP_num=6:epoch [18/20], loss:0.3164\n",
            "100%|█████████████████████████████████████████████| 4/4 [00:02<00:00,  1.58it/s]\n",
            "epoch [19/20], loss:0.3139\n",
            "INFO:INP-Former-Multi-Class_dataset=MVTec-AD_Encoder=dinov2reg_vit_base_14_Resize=448_Crop=392_INP_num=6:epoch [19/20], loss:0.3139\n",
            "100%|█████████████████████████████████████████████| 4/4 [00:02<00:00,  1.62it/s]\n",
            "epoch [20/20], loss:0.3126\n",
            "INFO:INP-Former-Multi-Class_dataset=MVTec-AD_Encoder=dinov2reg_vit_base_14_Resize=448_Crop=392_INP_num=6:epoch [20/20], loss:0.3126\n",
            "100%|█████████████████████████████████████████████| 9/9 [00:47<00:00,  5.28s/it]\n",
            "wood: I-Auroc:0.9207, I-AP:0.8586, I-F1:0.8931, P-AUROC:0.9309, P-AP:0.2566, P-F1:0.3401, P-AUPRO:0.7321\n",
            "INFO:INP-Former-Multi-Class_dataset=MVTec-AD_Encoder=dinov2reg_vit_base_14_Resize=448_Crop=392_INP_num=6:wood: I-Auroc:0.9207, I-AP:0.8586, I-F1:0.8931, P-AUROC:0.9309, P-AP:0.2566, P-F1:0.3401, P-AUPRO:0.7321\n",
            "Mean: I-Auroc:0.9207, I-AP:0.8586, I-F1:0.8931, P-AUROC:0.9309, P-AP:0.2566, P-F1:0.3401, P-AUPRO:0.7321\n",
            "INFO:INP-Former-Multi-Class_dataset=MVTec-AD_Encoder=dinov2reg_vit_base_14_Resize=448_Crop=392_INP_num=6:Mean: I-Auroc:0.9207, I-AP:0.8586, I-F1:0.8931, P-AUROC:0.9309, P-AP:0.2566, P-F1:0.3401, P-AUPRO:0.7321\n"
          ]
        }
      ]
    },
    {
      "cell_type": "markdown",
      "source": [
        "Modeli test etmek için `phase` `test` moduna ayarlandı."
      ],
      "metadata": {
        "id": "jmn7pnUwD-9O"
      }
    },
    {
      "cell_type": "code",
      "source": [
        "!python INP_Former_Multi_Class.py\\\n",
        "  --dataset MVTec-AD\\\n",
        "  --data_path /content/drive/MyDrive/processed_dataset \\\n",
        "  --save_dir ./saved_results/ \\\n",
        "  --total_epochs 1 \\\n",
        "  --phase test"
      ],
      "metadata": {
        "colab": {
          "base_uri": "https://localhost:8080/"
        },
        "id": "pq0-e94UrwWC",
        "outputId": "e25550c4-94a1-4541-80b0-a49db78fefe2"
      },
      "execution_count": 27,
      "outputs": [
        {
          "output_type": "stream",
          "name": "stdout",
          "text": [
            "/usr/local/lib/python3.11/dist-packages/timm/models/layers/__init__.py:48: FutureWarning: Importing from timm.models.layers is deprecated, please import via timm.layers\n",
            "  warnings.warn(f\"Importing from {__name__} is deprecated, please import via timm.layers\", FutureWarning)\n",
            "100%|█████████████████████████████████████████████| 9/9 [00:03<00:00,  2.26it/s]\n",
            "wood: I-Auroc:0.9207, I-AP:0.8586, I-F1:0.8931, P-AUROC:0.9309, P-AP:0.2566, P-F1:0.3401, P-AUPRO:0.7321\n",
            "INFO:INP-Former-Multi-Class_dataset=MVTec-AD_Encoder=dinov2reg_vit_base_14_Resize=448_Crop=392_INP_num=6:wood: I-Auroc:0.9207, I-AP:0.8586, I-F1:0.8931, P-AUROC:0.9309, P-AP:0.2566, P-F1:0.3401, P-AUPRO:0.7321\n",
            "Mean: I-Auroc:0.9207, I-AP:0.8586, I-F1:0.8931, P-AUROC:0.9309, P-AP:0.2566, P-F1:0.3401, P-AUPRO:0.7321\n",
            "INFO:INP-Former-Multi-Class_dataset=MVTec-AD_Encoder=dinov2reg_vit_base_14_Resize=448_Crop=392_INP_num=6:Mean: I-Auroc:0.9207, I-AP:0.8586, I-F1:0.8931, P-AUROC:0.9309, P-AP:0.2566, P-F1:0.3401, P-AUPRO:0.7321\n"
          ]
        }
      ]
    },
    {
      "cell_type": "markdown",
      "source": [
        "####2.2 30 Epoch İle Model Eğitimi"
      ],
      "metadata": {
        "id": "iYXfr9rKD64-"
      }
    },
    {
      "cell_type": "code",
      "source": [
        "!python INP_Former_Multi_Class.py\\\n",
        "  --dataset MVTec-AD\\\n",
        "  --data_path /content/drive/MyDrive/processed_dataset \\\n",
        "  --save_dir ./saved_results/ \\\n",
        "  --total_epochs 30 \\\n",
        "  --phase train"
      ],
      "metadata": {
        "colab": {
          "base_uri": "https://localhost:8080/"
        },
        "id": "BYishFH1sHCw",
        "outputId": "ff622b67-d92b-4a91-d65d-1c89b9efe65a"
      },
      "execution_count": 31,
      "outputs": [
        {
          "output_type": "stream",
          "name": "stdout",
          "text": [
            "/usr/local/lib/python3.11/dist-packages/timm/models/layers/__init__.py:48: FutureWarning: Importing from timm.models.layers is deprecated, please import via timm.layers\n",
            "  warnings.warn(f\"Importing from {__name__} is deprecated, please import via timm.layers\", FutureWarning)\n",
            "train image number:70\n",
            "INFO:INP-Former-Multi-Class_dataset=MVTec-AD_Encoder=dinov2reg_vit_base_14_Resize=448_Crop=392_INP_num=6:train image number:70\n",
            "100%|█████████████████████████████████████████████| 4/4 [00:03<00:00,  1.11it/s]\n",
            "epoch [1/30], loss:1.1067\n",
            "INFO:INP-Former-Multi-Class_dataset=MVTec-AD_Encoder=dinov2reg_vit_base_14_Resize=448_Crop=392_INP_num=6:epoch [1/30], loss:1.1067\n",
            "100%|█████████████████████████████████████████████| 4/4 [00:02<00:00,  1.58it/s]\n",
            "epoch [2/30], loss:0.6679\n",
            "INFO:INP-Former-Multi-Class_dataset=MVTec-AD_Encoder=dinov2reg_vit_base_14_Resize=448_Crop=392_INP_num=6:epoch [2/30], loss:0.6679\n",
            "100%|█████████████████████████████████████████████| 4/4 [00:02<00:00,  1.60it/s]\n",
            "epoch [3/30], loss:0.5562\n",
            "INFO:INP-Former-Multi-Class_dataset=MVTec-AD_Encoder=dinov2reg_vit_base_14_Resize=448_Crop=392_INP_num=6:epoch [3/30], loss:0.5562\n",
            "100%|█████████████████████████████████████████████| 4/4 [00:02<00:00,  1.59it/s]\n",
            "epoch [4/30], loss:0.4997\n",
            "INFO:INP-Former-Multi-Class_dataset=MVTec-AD_Encoder=dinov2reg_vit_base_14_Resize=448_Crop=392_INP_num=6:epoch [4/30], loss:0.4997\n",
            "100%|█████████████████████████████████████████████| 4/4 [00:02<00:00,  1.59it/s]\n",
            "epoch [5/30], loss:0.4503\n",
            "INFO:INP-Former-Multi-Class_dataset=MVTec-AD_Encoder=dinov2reg_vit_base_14_Resize=448_Crop=392_INP_num=6:epoch [5/30], loss:0.4503\n",
            "100%|█████████████████████████████████████████████| 4/4 [00:02<00:00,  1.60it/s]\n",
            "epoch [6/30], loss:0.4022\n",
            "INFO:INP-Former-Multi-Class_dataset=MVTec-AD_Encoder=dinov2reg_vit_base_14_Resize=448_Crop=392_INP_num=6:epoch [6/30], loss:0.4022\n",
            "100%|█████████████████████████████████████████████| 4/4 [00:02<00:00,  1.59it/s]\n",
            "epoch [7/30], loss:0.3750\n",
            "INFO:INP-Former-Multi-Class_dataset=MVTec-AD_Encoder=dinov2reg_vit_base_14_Resize=448_Crop=392_INP_num=6:epoch [7/30], loss:0.3750\n",
            "100%|█████████████████████████████████████████████| 4/4 [00:02<00:00,  1.60it/s]\n",
            "epoch [8/30], loss:0.3596\n",
            "INFO:INP-Former-Multi-Class_dataset=MVTec-AD_Encoder=dinov2reg_vit_base_14_Resize=448_Crop=392_INP_num=6:epoch [8/30], loss:0.3596\n",
            "100%|█████████████████████████████████████████████| 4/4 [00:02<00:00,  1.59it/s]\n",
            "epoch [9/30], loss:0.3547\n",
            "INFO:INP-Former-Multi-Class_dataset=MVTec-AD_Encoder=dinov2reg_vit_base_14_Resize=448_Crop=392_INP_num=6:epoch [9/30], loss:0.3547\n",
            "100%|█████████████████████████████████████████████| 4/4 [00:02<00:00,  1.59it/s]\n",
            "epoch [10/30], loss:0.3473\n",
            "INFO:INP-Former-Multi-Class_dataset=MVTec-AD_Encoder=dinov2reg_vit_base_14_Resize=448_Crop=392_INP_num=6:epoch [10/30], loss:0.3473\n",
            "100%|█████████████████████████████████████████████| 4/4 [00:02<00:00,  1.60it/s]\n",
            "epoch [11/30], loss:0.3382\n",
            "INFO:INP-Former-Multi-Class_dataset=MVTec-AD_Encoder=dinov2reg_vit_base_14_Resize=448_Crop=392_INP_num=6:epoch [11/30], loss:0.3382\n",
            "100%|█████████████████████████████████████████████| 4/4 [00:02<00:00,  1.60it/s]\n",
            "epoch [12/30], loss:0.3370\n",
            "INFO:INP-Former-Multi-Class_dataset=MVTec-AD_Encoder=dinov2reg_vit_base_14_Resize=448_Crop=392_INP_num=6:epoch [12/30], loss:0.3370\n",
            "100%|█████████████████████████████████████████████| 4/4 [00:02<00:00,  1.60it/s]\n",
            "epoch [13/30], loss:0.3270\n",
            "INFO:INP-Former-Multi-Class_dataset=MVTec-AD_Encoder=dinov2reg_vit_base_14_Resize=448_Crop=392_INP_num=6:epoch [13/30], loss:0.3270\n",
            "100%|█████████████████████████████████████████████| 4/4 [00:02<00:00,  1.59it/s]\n",
            "epoch [14/30], loss:0.3242\n",
            "INFO:INP-Former-Multi-Class_dataset=MVTec-AD_Encoder=dinov2reg_vit_base_14_Resize=448_Crop=392_INP_num=6:epoch [14/30], loss:0.3242\n",
            "100%|█████████████████████████████████████████████| 4/4 [00:02<00:00,  1.58it/s]\n",
            "epoch [15/30], loss:0.3290\n",
            "INFO:INP-Former-Multi-Class_dataset=MVTec-AD_Encoder=dinov2reg_vit_base_14_Resize=448_Crop=392_INP_num=6:epoch [15/30], loss:0.3290\n",
            "100%|█████████████████████████████████████████████| 4/4 [00:02<00:00,  1.60it/s]\n",
            "epoch [16/30], loss:0.3196\n",
            "INFO:INP-Former-Multi-Class_dataset=MVTec-AD_Encoder=dinov2reg_vit_base_14_Resize=448_Crop=392_INP_num=6:epoch [16/30], loss:0.3196\n",
            "100%|█████████████████████████████████████████████| 4/4 [00:02<00:00,  1.61it/s]\n",
            "epoch [17/30], loss:0.3218\n",
            "INFO:INP-Former-Multi-Class_dataset=MVTec-AD_Encoder=dinov2reg_vit_base_14_Resize=448_Crop=392_INP_num=6:epoch [17/30], loss:0.3218\n",
            "100%|█████████████████████████████████████████████| 4/4 [00:02<00:00,  1.61it/s]\n",
            "epoch [18/30], loss:0.3164\n",
            "INFO:INP-Former-Multi-Class_dataset=MVTec-AD_Encoder=dinov2reg_vit_base_14_Resize=448_Crop=392_INP_num=6:epoch [18/30], loss:0.3164\n",
            "100%|█████████████████████████████████████████████| 4/4 [00:02<00:00,  1.60it/s]\n",
            "epoch [19/30], loss:0.3139\n",
            "INFO:INP-Former-Multi-Class_dataset=MVTec-AD_Encoder=dinov2reg_vit_base_14_Resize=448_Crop=392_INP_num=6:epoch [19/30], loss:0.3139\n",
            "100%|█████████████████████████████████████████████| 4/4 [00:02<00:00,  1.60it/s]\n",
            "epoch [20/30], loss:0.3126\n",
            "INFO:INP-Former-Multi-Class_dataset=MVTec-AD_Encoder=dinov2reg_vit_base_14_Resize=448_Crop=392_INP_num=6:epoch [20/30], loss:0.3126\n",
            "100%|█████████████████████████████████████████████| 4/4 [00:02<00:00,  1.60it/s]\n",
            "epoch [21/30], loss:0.3139\n",
            "INFO:INP-Former-Multi-Class_dataset=MVTec-AD_Encoder=dinov2reg_vit_base_14_Resize=448_Crop=392_INP_num=6:epoch [21/30], loss:0.3139\n",
            "100%|█████████████████████████████████████████████| 4/4 [00:02<00:00,  1.59it/s]\n",
            "epoch [22/30], loss:0.3096\n",
            "INFO:INP-Former-Multi-Class_dataset=MVTec-AD_Encoder=dinov2reg_vit_base_14_Resize=448_Crop=392_INP_num=6:epoch [22/30], loss:0.3096\n",
            "100%|█████████████████████████████████████████████| 4/4 [00:02<00:00,  1.60it/s]\n",
            "epoch [23/30], loss:0.2982\n",
            "INFO:INP-Former-Multi-Class_dataset=MVTec-AD_Encoder=dinov2reg_vit_base_14_Resize=448_Crop=392_INP_num=6:epoch [23/30], loss:0.2982\n",
            "100%|█████████████████████████████████████████████| 4/4 [00:02<00:00,  1.59it/s]\n",
            "epoch [24/30], loss:0.3148\n",
            "INFO:INP-Former-Multi-Class_dataset=MVTec-AD_Encoder=dinov2reg_vit_base_14_Resize=448_Crop=392_INP_num=6:epoch [24/30], loss:0.3148\n",
            "100%|█████████████████████████████████████████████| 4/4 [00:02<00:00,  1.58it/s]\n",
            "epoch [25/30], loss:0.3107\n",
            "INFO:INP-Former-Multi-Class_dataset=MVTec-AD_Encoder=dinov2reg_vit_base_14_Resize=448_Crop=392_INP_num=6:epoch [25/30], loss:0.3107\n",
            "100%|█████████████████████████████████████████████| 4/4 [00:02<00:00,  1.62it/s]\n",
            "epoch [26/30], loss:0.2984\n",
            "INFO:INP-Former-Multi-Class_dataset=MVTec-AD_Encoder=dinov2reg_vit_base_14_Resize=448_Crop=392_INP_num=6:epoch [26/30], loss:0.2984\n",
            "100%|█████████████████████████████████████████████| 4/4 [00:02<00:00,  1.60it/s]\n",
            "epoch [27/30], loss:0.2974\n",
            "INFO:INP-Former-Multi-Class_dataset=MVTec-AD_Encoder=dinov2reg_vit_base_14_Resize=448_Crop=392_INP_num=6:epoch [27/30], loss:0.2974\n",
            "100%|█████████████████████████████████████████████| 4/4 [00:02<00:00,  1.61it/s]\n",
            "epoch [28/30], loss:0.2904\n",
            "INFO:INP-Former-Multi-Class_dataset=MVTec-AD_Encoder=dinov2reg_vit_base_14_Resize=448_Crop=392_INP_num=6:epoch [28/30], loss:0.2904\n",
            "100%|█████████████████████████████████████████████| 4/4 [00:02<00:00,  1.61it/s]\n",
            "epoch [29/30], loss:0.2820\n",
            "INFO:INP-Former-Multi-Class_dataset=MVTec-AD_Encoder=dinov2reg_vit_base_14_Resize=448_Crop=392_INP_num=6:epoch [29/30], loss:0.2820\n",
            "100%|█████████████████████████████████████████████| 4/4 [00:02<00:00,  1.60it/s]\n",
            "epoch [30/30], loss:0.2750\n",
            "INFO:INP-Former-Multi-Class_dataset=MVTec-AD_Encoder=dinov2reg_vit_base_14_Resize=448_Crop=392_INP_num=6:epoch [30/30], loss:0.2750\n",
            "100%|█████████████████████████████████████████████| 9/9 [00:02<00:00,  3.14it/s]\n",
            "wood: I-Auroc:0.9157, I-AP:0.8531, I-F1:0.8784, P-AUROC:0.9320, P-AP:0.2711, P-F1:0.3465, P-AUPRO:0.7417\n",
            "INFO:INP-Former-Multi-Class_dataset=MVTec-AD_Encoder=dinov2reg_vit_base_14_Resize=448_Crop=392_INP_num=6:wood: I-Auroc:0.9157, I-AP:0.8531, I-F1:0.8784, P-AUROC:0.9320, P-AP:0.2711, P-F1:0.3465, P-AUPRO:0.7417\n",
            "Mean: I-Auroc:0.9157, I-AP:0.8531, I-F1:0.8784, P-AUROC:0.9320, P-AP:0.2711, P-F1:0.3465, P-AUPRO:0.7417\n",
            "INFO:INP-Former-Multi-Class_dataset=MVTec-AD_Encoder=dinov2reg_vit_base_14_Resize=448_Crop=392_INP_num=6:Mean: I-Auroc:0.9157, I-AP:0.8531, I-F1:0.8784, P-AUROC:0.9320, P-AP:0.2711, P-F1:0.3465, P-AUPRO:0.7417\n"
          ]
        }
      ]
    },
    {
      "cell_type": "code",
      "source": [
        "!python INP_Former_Multi_Class.py\\\n",
        "  --dataset MVTec-AD\\\n",
        "  --data_path /content/drive/MyDrive/processed_dataset \\\n",
        "  --save_dir ./saved_results/ \\\n",
        "  --total_epochs 1 \\\n",
        "  --phase test"
      ],
      "metadata": {
        "colab": {
          "base_uri": "https://localhost:8080/"
        },
        "id": "PmayGv-QsE-m",
        "outputId": "01c5cd51-d073-43a3-fcb3-b58fd0493e99"
      },
      "execution_count": 32,
      "outputs": [
        {
          "output_type": "stream",
          "name": "stdout",
          "text": [
            "/usr/local/lib/python3.11/dist-packages/timm/models/layers/__init__.py:48: FutureWarning: Importing from timm.models.layers is deprecated, please import via timm.layers\n",
            "  warnings.warn(f\"Importing from {__name__} is deprecated, please import via timm.layers\", FutureWarning)\n",
            "100%|█████████████████████████████████████████████| 9/9 [00:03<00:00,  2.35it/s]\n",
            "wood: I-Auroc:0.9157, I-AP:0.8531, I-F1:0.8784, P-AUROC:0.9320, P-AP:0.2711, P-F1:0.3465, P-AUPRO:0.7417\n",
            "INFO:INP-Former-Multi-Class_dataset=MVTec-AD_Encoder=dinov2reg_vit_base_14_Resize=448_Crop=392_INP_num=6:wood: I-Auroc:0.9157, I-AP:0.8531, I-F1:0.8784, P-AUROC:0.9320, P-AP:0.2711, P-F1:0.3465, P-AUPRO:0.7417\n",
            "Mean: I-Auroc:0.9157, I-AP:0.8531, I-F1:0.8784, P-AUROC:0.9320, P-AP:0.2711, P-F1:0.3465, P-AUPRO:0.7417\n",
            "INFO:INP-Former-Multi-Class_dataset=MVTec-AD_Encoder=dinov2reg_vit_base_14_Resize=448_Crop=392_INP_num=6:Mean: I-Auroc:0.9157, I-AP:0.8531, I-F1:0.8784, P-AUROC:0.9320, P-AP:0.2711, P-F1:0.3465, P-AUPRO:0.7417\n"
          ]
        }
      ]
    }
  ]
}